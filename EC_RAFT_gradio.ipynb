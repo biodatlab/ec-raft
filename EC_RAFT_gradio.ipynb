{
  "cells": [
    {
      "cell_type": "markdown",
      "metadata": {
        "id": "view-in-github",
        "colab_type": "text"
      },
      "source": [
        "<a href=\"https://colab.research.google.com/github/biodatlab/ec-raft/blob/main/EC_RAFT_gradio.ipynb\" target=\"_parent\"><img src=\"https://colab.research.google.com/assets/colab-badge.svg\" alt=\"Open In Colab\"/></a>"
      ]
    },
    {
      "cell_type": "markdown",
      "metadata": {
        "id": "g2kQkFymEoxZ"
      },
      "source": [
        "# EC-RAFT Gradio Demo Setup\n",
        "\n",
        "This notebook walks you through setting up the environment, downloading data, and launching the EC-RAFT Gradio application.\n",
        "\n",
        "**Hardware Requirement:** A GPU with at least 20GB of VRAM is required to run this demo (e.g., an NVIDIA L4).\n"
      ]
    },
    {
      "cell_type": "markdown",
      "metadata": {
        "id": "-Lx2zcAE5Bwu"
      },
      "source": [
        "## 1. Install Dependencies\n",
        "\n",
        "First, we clone the repository and install the required Python packages."
      ]
    },
    {
      "cell_type": "code",
      "execution_count": null,
      "metadata": {
        "id": "mz9KUPWeBWtq"
      },
      "outputs": [],
      "source": [
        "!git clone https://github.com/biodatlab/ec-raft\n",
        "!export HF_HUB_ENABLE_HF_TRANSFER=1\n",
        "!cp -r ec-raft/. .\n",
        "!rm -rf ec-raft\n",
        "!pip install -r requirements.txt"
      ]
    },
    {
      "cell_type": "markdown",
      "metadata": {
        "id": "47-VwLm95iwA"
      },
      "source": [
        "## 2. Download Pre-embedded Database\n",
        "\n",
        "Next, download and unzip the pre-embedded ChromaDB database for clinical trials.\n",
        "\n",
        "Alternatively, you can generate the embeddings yourself by running the `embed.py` script from the repository."
      ]
    },
    {
      "cell_type": "code",
      "execution_count": null,
      "metadata": {
        "id": "nonVKdhDLhWo"
      },
      "outputs": [],
      "source": [
        "!wget -O clinical_trials_chroma_all.zip https://pub-27ae5e89dee744e1bc9282c5fb9519b1.r2.dev/clinical_trials_chroma_all.zip\n",
        "!unzip clinical_trials_chroma_all.zip -d clinical_trials_chroma_all\n",
        "!rm clinical_trials_chroma_all.zip"
      ]
    },
    {
      "cell_type": "markdown",
      "metadata": {
        "id": "UkpUjN7KEoxc"
      },
      "source": [
        "## 3. Inference\n",
        "\n",
        "Before launching the user interface, you can test the core inference logic directly.\n",
        "\n",
        "Note that we do have additional field for intervention for the interventional studies. Please take a look at the Gradio UI below.\n"
      ]
    },
    {
      "cell_type": "code",
      "execution_count": null,
      "metadata": {
        "id": "FYBEp10hEoxd"
      },
      "outputs": [],
      "source": [
        "from inference.core import generate_ec\n",
        "\n",
        "title = \"Airway Epithelium Gene Expression in the Diagnosis of Lung Cancer: AEGIS CLIA\"\n",
        "description = \"\"\"#Study Description\n",
        "Brief Summary\n",
        "The primary objective of this study is to substantiate prediction accuracy(with a tighter 95% confidence interval compared to current diagnostic modalities), of a lung cancer biomarker for risk stratification of patients into high and low risk categories to aid in clinical evaluation of the patient.\n",
        "\"\"\"\n",
        "\n",
        "results = generate_ec(title=title, description=description)\n",
        "\n",
        "print(results[\"reasoning\"])\n",
        "print(\"-\"*20)\n",
        "print(results[\"criteria\"])\n"
      ]
    },
    {
      "cell_type": "markdown",
      "metadata": {
        "id": "chWzgoQV5oiS"
      },
      "source": [
        "## 4. Launch the Gradio Application\n",
        "\n",
        "Now you can launch the Gradio user interface to interact with the model.\n",
        "\n",
        "You might need to restart the notebook to purge the VRAM used in the prior inference cells"
      ]
    },
    {
      "cell_type": "code",
      "execution_count": null,
      "metadata": {
        "id": "vct_4608BwgR"
      },
      "outputs": [],
      "source": [
        "!python app.py"
      ]
    }
  ],
  "metadata": {
    "accelerator": "GPU",
    "colab": {
      "gpuType": "L4",
      "provenance": [],
      "include_colab_link": true
    },
    "kernelspec": {
      "display_name": "Python 3",
      "name": "python3"
    },
    "language_info": {
      "name": "python"
    }
  },
  "nbformat": 4,
  "nbformat_minor": 0
}